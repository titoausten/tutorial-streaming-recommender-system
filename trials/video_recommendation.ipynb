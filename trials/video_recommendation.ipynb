{
 "cells": [
  {
   "cell_type": "code",
   "execution_count": 2,
   "metadata": {},
   "outputs": [],
   "source": [
    "import json\n",
    "import pandas as pd\n",
    "from sklearn.metrics.pairwise import cosine_similarity\n",
    "from sklearn.feature_extraction.text import TfidfVectorizer\n",
    "import re\n",
    "import nltk\n",
    "from nltk.tokenize import word_tokenize\n",
    "from nltk.corpus import stopwords\n",
    "import contractions\n",
    "\n",
    "stop_words = nltk.corpus.stopwords.words('english')"
   ]
  },
  {
   "cell_type": "markdown",
   "metadata": {},
   "source": [
    "## DATA INGESTION"
   ]
  },
  {
   "cell_type": "code",
   "execution_count": 42,
   "metadata": {},
   "outputs": [],
   "source": [
    "def load_data(json_file):\n",
    "    # Load JSON data\n",
    "    with open(json_file, 'r') as f:\n",
    "        data = json.load(f)\n",
    "    # Convert to DataFrame\n",
    "    users = pd.DataFrame(data['users'])\n",
    "    videos = pd.DataFrame(data['videos'])\n",
    "    return users, videos"
   ]
  },
  {
   "cell_type": "code",
   "execution_count": 43,
   "metadata": {},
   "outputs": [],
   "source": [
    "users, videos = load_data('data.json')"
   ]
  },
  {
   "cell_type": "code",
   "execution_count": 44,
   "metadata": {},
   "outputs": [
    {
     "data": {
      "text/html": [
       "<div>\n",
       "<style scoped>\n",
       "    .dataframe tbody tr th:only-of-type {\n",
       "        vertical-align: middle;\n",
       "    }\n",
       "\n",
       "    .dataframe tbody tr th {\n",
       "        vertical-align: top;\n",
       "    }\n",
       "\n",
       "    .dataframe thead th {\n",
       "        text-align: right;\n",
       "    }\n",
       "</style>\n",
       "<table border=\"1\" class=\"dataframe\">\n",
       "  <thead>\n",
       "    <tr style=\"text-align: right;\">\n",
       "      <th></th>\n",
       "      <th>user_id</th>\n",
       "      <th>name</th>\n",
       "      <th>watch_history</th>\n",
       "    </tr>\n",
       "  </thead>\n",
       "  <tbody>\n",
       "    <tr>\n",
       "      <th>0</th>\n",
       "      <td>1</td>\n",
       "      <td>Alice Johnson</td>\n",
       "      <td>[101, 102, 103, 104, 105, 106, 107, 108, 109, ...</td>\n",
       "    </tr>\n",
       "    <tr>\n",
       "      <th>1</th>\n",
       "      <td>2</td>\n",
       "      <td>Bob Smith</td>\n",
       "      <td>[121, 122, 123, 124, 125, 126, 127, 128, 129, ...</td>\n",
       "    </tr>\n",
       "    <tr>\n",
       "      <th>2</th>\n",
       "      <td>3</td>\n",
       "      <td>Carol Williams</td>\n",
       "      <td>[145, 146, 147, 148, 149, 150, 101, 102, 103, ...</td>\n",
       "    </tr>\n",
       "    <tr>\n",
       "      <th>3</th>\n",
       "      <td>4</td>\n",
       "      <td>David Brown</td>\n",
       "      <td>[115, 116, 117, 118, 119, 120, 121, 122, 123, ...</td>\n",
       "    </tr>\n",
       "    <tr>\n",
       "      <th>4</th>\n",
       "      <td>5</td>\n",
       "      <td>Emma Davis</td>\n",
       "      <td>[135, 136, 137, 138, 139, 140, 141, 142, 143, ...</td>\n",
       "    </tr>\n",
       "  </tbody>\n",
       "</table>\n",
       "</div>"
      ],
      "text/plain": [
       "   user_id            name                                      watch_history\n",
       "0        1   Alice Johnson  [101, 102, 103, 104, 105, 106, 107, 108, 109, ...\n",
       "1        2       Bob Smith  [121, 122, 123, 124, 125, 126, 127, 128, 129, ...\n",
       "2        3  Carol Williams  [145, 146, 147, 148, 149, 150, 101, 102, 103, ...\n",
       "3        4     David Brown  [115, 116, 117, 118, 119, 120, 121, 122, 123, ...\n",
       "4        5      Emma Davis  [135, 136, 137, 138, 139, 140, 141, 142, 143, ..."
      ]
     },
     "execution_count": 44,
     "metadata": {},
     "output_type": "execute_result"
    }
   ],
   "source": [
    "users.head()"
   ]
  },
  {
   "cell_type": "code",
   "execution_count": 45,
   "metadata": {},
   "outputs": [
    {
     "data": {
      "text/html": [
       "<div>\n",
       "<style scoped>\n",
       "    .dataframe tbody tr th:only-of-type {\n",
       "        vertical-align: middle;\n",
       "    }\n",
       "\n",
       "    .dataframe tbody tr th {\n",
       "        vertical-align: top;\n",
       "    }\n",
       "\n",
       "    .dataframe thead th {\n",
       "        text-align: right;\n",
       "    }\n",
       "</style>\n",
       "<table border=\"1\" class=\"dataframe\">\n",
       "  <thead>\n",
       "    <tr style=\"text-align: right;\">\n",
       "      <th></th>\n",
       "      <th>video_id</th>\n",
       "      <th>title</th>\n",
       "      <th>category</th>\n",
       "      <th>tags</th>\n",
       "      <th>duration</th>\n",
       "    </tr>\n",
       "  </thead>\n",
       "  <tbody>\n",
       "    <tr>\n",
       "      <th>0</th>\n",
       "      <td>101</td>\n",
       "      <td>Introduction to Python</td>\n",
       "      <td>Education</td>\n",
       "      <td>[python, programming, tutorial]</td>\n",
       "      <td>15:32</td>\n",
       "    </tr>\n",
       "    <tr>\n",
       "      <th>1</th>\n",
       "      <td>102</td>\n",
       "      <td>Advanced Python Techniques</td>\n",
       "      <td>Education</td>\n",
       "      <td>[python, programming, advanced]</td>\n",
       "      <td>22:45</td>\n",
       "    </tr>\n",
       "    <tr>\n",
       "      <th>2</th>\n",
       "      <td>103</td>\n",
       "      <td>Python for Data Science</td>\n",
       "      <td>Education</td>\n",
       "      <td>[python, data science, tutorial]</td>\n",
       "      <td>19:56</td>\n",
       "    </tr>\n",
       "    <tr>\n",
       "      <th>3</th>\n",
       "      <td>104</td>\n",
       "      <td>Machine Learning Basics</td>\n",
       "      <td>Education</td>\n",
       "      <td>[machine learning, AI, tutorial]</td>\n",
       "      <td>25:11</td>\n",
       "    </tr>\n",
       "    <tr>\n",
       "      <th>4</th>\n",
       "      <td>105</td>\n",
       "      <td>Neural Networks Explained</td>\n",
       "      <td>Education</td>\n",
       "      <td>[neural networks, AI, tutorial]</td>\n",
       "      <td>28:34</td>\n",
       "    </tr>\n",
       "  </tbody>\n",
       "</table>\n",
       "</div>"
      ],
      "text/plain": [
       "   video_id                       title   category  \\\n",
       "0       101      Introduction to Python  Education   \n",
       "1       102  Advanced Python Techniques  Education   \n",
       "2       103     Python for Data Science  Education   \n",
       "3       104     Machine Learning Basics  Education   \n",
       "4       105   Neural Networks Explained  Education   \n",
       "\n",
       "                               tags duration  \n",
       "0   [python, programming, tutorial]    15:32  \n",
       "1   [python, programming, advanced]    22:45  \n",
       "2  [python, data science, tutorial]    19:56  \n",
       "3  [machine learning, AI, tutorial]    25:11  \n",
       "4   [neural networks, AI, tutorial]    28:34  "
      ]
     },
     "execution_count": 45,
     "metadata": {},
     "output_type": "execute_result"
    }
   ],
   "source": [
    "videos.head()"
   ]
  },
  {
   "cell_type": "markdown",
   "metadata": {},
   "source": [
    "## EDA"
   ]
  },
  {
   "cell_type": "markdown",
   "metadata": {},
   "source": [
    "#### Check for Null values"
   ]
  },
  {
   "cell_type": "code",
   "execution_count": 46,
   "metadata": {},
   "outputs": [
    {
     "data": {
      "text/plain": [
       "user_id          0\n",
       "name             0\n",
       "watch_history    0\n",
       "dtype: int64"
      ]
     },
     "execution_count": 46,
     "metadata": {},
     "output_type": "execute_result"
    }
   ],
   "source": [
    "users.isnull().sum()"
   ]
  },
  {
   "cell_type": "code",
   "execution_count": 47,
   "metadata": {},
   "outputs": [
    {
     "data": {
      "text/plain": [
       "video_id    0\n",
       "title       0\n",
       "category    0\n",
       "tags        0\n",
       "duration    0\n",
       "dtype: int64"
      ]
     },
     "execution_count": 47,
     "metadata": {},
     "output_type": "execute_result"
    }
   ],
   "source": [
    "videos.isnull().sum()"
   ]
  },
  {
   "cell_type": "markdown",
   "metadata": {},
   "source": [
    "## DATA PREPROCESIING"
   ]
  },
  {
   "cell_type": "code",
   "execution_count": 48,
   "metadata": {},
   "outputs": [],
   "source": [
    "def preprocess_text(text):\n",
    "    # Remove non-alphanumeric characters, strip whitespace, and convert to lowercase\n",
    "    text = re.sub(r'[^a-zA-Z0-9\\s]', '', text)\n",
    "    text = text.lower()\n",
    "    text = text.strip()\n",
    "    text = contractions.fix(text)\n",
    "    # tokenize document\n",
    "    tokens = nltk.word_tokenize(text)\n",
    "    # filter stopwords out of document\n",
    "    filtered_tokens = [token for token in tokens if token not in stop_words]\n",
    "    # re-create document from filtered tokens\n",
    "    text = ' '.join(filtered_tokens)\n",
    "    return text"
   ]
  },
  {
   "cell_type": "markdown",
   "metadata": {},
   "source": [
    "## FEATURE ENGINEERING"
   ]
  },
  {
   "cell_type": "code",
   "execution_count": 49,
   "metadata": {},
   "outputs": [],
   "source": [
    "videos['processed_title'] = videos['title'].apply(preprocess_text)"
   ]
  },
  {
   "cell_type": "code",
   "execution_count": 50,
   "metadata": {},
   "outputs": [
    {
     "data": {
      "text/html": [
       "<div>\n",
       "<style scoped>\n",
       "    .dataframe tbody tr th:only-of-type {\n",
       "        vertical-align: middle;\n",
       "    }\n",
       "\n",
       "    .dataframe tbody tr th {\n",
       "        vertical-align: top;\n",
       "    }\n",
       "\n",
       "    .dataframe thead th {\n",
       "        text-align: right;\n",
       "    }\n",
       "</style>\n",
       "<table border=\"1\" class=\"dataframe\">\n",
       "  <thead>\n",
       "    <tr style=\"text-align: right;\">\n",
       "      <th></th>\n",
       "      <th>video_id</th>\n",
       "      <th>title</th>\n",
       "      <th>category</th>\n",
       "      <th>tags</th>\n",
       "      <th>duration</th>\n",
       "      <th>processed_title</th>\n",
       "    </tr>\n",
       "  </thead>\n",
       "  <tbody>\n",
       "    <tr>\n",
       "      <th>0</th>\n",
       "      <td>101</td>\n",
       "      <td>Introduction to Python</td>\n",
       "      <td>Education</td>\n",
       "      <td>[python, programming, tutorial]</td>\n",
       "      <td>15:32</td>\n",
       "      <td>introduction python</td>\n",
       "    </tr>\n",
       "    <tr>\n",
       "      <th>1</th>\n",
       "      <td>102</td>\n",
       "      <td>Advanced Python Techniques</td>\n",
       "      <td>Education</td>\n",
       "      <td>[python, programming, advanced]</td>\n",
       "      <td>22:45</td>\n",
       "      <td>advanced python techniques</td>\n",
       "    </tr>\n",
       "    <tr>\n",
       "      <th>2</th>\n",
       "      <td>103</td>\n",
       "      <td>Python for Data Science</td>\n",
       "      <td>Education</td>\n",
       "      <td>[python, data science, tutorial]</td>\n",
       "      <td>19:56</td>\n",
       "      <td>python data science</td>\n",
       "    </tr>\n",
       "    <tr>\n",
       "      <th>3</th>\n",
       "      <td>104</td>\n",
       "      <td>Machine Learning Basics</td>\n",
       "      <td>Education</td>\n",
       "      <td>[machine learning, AI, tutorial]</td>\n",
       "      <td>25:11</td>\n",
       "      <td>machine learning basics</td>\n",
       "    </tr>\n",
       "    <tr>\n",
       "      <th>4</th>\n",
       "      <td>105</td>\n",
       "      <td>Neural Networks Explained</td>\n",
       "      <td>Education</td>\n",
       "      <td>[neural networks, AI, tutorial]</td>\n",
       "      <td>28:34</td>\n",
       "      <td>neural networks explained</td>\n",
       "    </tr>\n",
       "  </tbody>\n",
       "</table>\n",
       "</div>"
      ],
      "text/plain": [
       "   video_id                       title   category  \\\n",
       "0       101      Introduction to Python  Education   \n",
       "1       102  Advanced Python Techniques  Education   \n",
       "2       103     Python for Data Science  Education   \n",
       "3       104     Machine Learning Basics  Education   \n",
       "4       105   Neural Networks Explained  Education   \n",
       "\n",
       "                               tags duration             processed_title  \n",
       "0   [python, programming, tutorial]    15:32         introduction python  \n",
       "1   [python, programming, advanced]    22:45  advanced python techniques  \n",
       "2  [python, data science, tutorial]    19:56         python data science  \n",
       "3  [machine learning, AI, tutorial]    25:11     machine learning basics  \n",
       "4   [neural networks, AI, tutorial]    28:34   neural networks explained  "
      ]
     },
     "execution_count": 50,
     "metadata": {},
     "output_type": "execute_result"
    }
   ],
   "source": [
    "videos.head()"
   ]
  },
  {
   "cell_type": "markdown",
   "metadata": {},
   "source": [
    "## FEATURE EXTRACTION"
   ]
  },
  {
   "cell_type": "code",
   "execution_count": 51,
   "metadata": {},
   "outputs": [],
   "source": [
    "def calculate_tfidf(documents):\n",
    "    # Calculate TF-IDF vectors for the documents\n",
    "    vectorizer = TfidfVectorizer()\n",
    "    tfidf_matrix = vectorizer.fit_transform(documents)\n",
    "    return tfidf_matrix"
   ]
  },
  {
   "cell_type": "code",
   "execution_count": 52,
   "metadata": {},
   "outputs": [],
   "source": [
    "tfidf_matrix = calculate_tfidf(videos['processed_title'])"
   ]
  },
  {
   "cell_type": "markdown",
   "metadata": {},
   "source": [
    "## DOCUMENT SIMILARITY COMPUTATION"
   ]
  },
  {
   "cell_type": "code",
   "execution_count": 53,
   "metadata": {},
   "outputs": [],
   "source": [
    "def get_user_watch_history(user_id):\n",
    "    # Retrieve the watch history for a given user\n",
    "    user_history = users[users['user_id'] == user_id]['watch_history'].values\n",
    "    if user_history:\n",
    "        return user_history[0]\n",
    "    return []"
   ]
  },
  {
   "cell_type": "code",
   "execution_count": 54,
   "metadata": {},
   "outputs": [],
   "source": [
    "similarity_matrix = cosine_similarity(tfidf_matrix, tfidf_matrix)"
   ]
  },
  {
   "cell_type": "markdown",
   "metadata": {},
   "source": [
    "## MODELING"
   ]
  },
  {
   "cell_type": "code",
   "execution_count": 63,
   "metadata": {},
   "outputs": [],
   "source": [
    "def recommend_videos(user_id, top_n):\n",
    "    # Generate video recommendations for a user\n",
    "    user_name = users[users['user_id'] == user_id]['name'].values[0]\n",
    "    watch_history = get_user_watch_history(user_id)\n",
    "    if not watch_history:\n",
    "        return []\n",
    "\n",
    "    watched_indices = videos[videos['video_id'].isin(watch_history)].index.tolist()\n",
    "    if not watched_indices:\n",
    "        return []\n",
    "\n",
    "    similarity_scores = similarity_matrix[watched_indices].mean(axis=0)\n",
    "    videos['similarity_score'] = similarity_scores\n",
    "\n",
    "    recommended_videos = videos[~videos['video_id'].isin(watch_history)].sort_values(by='similarity_score', ascending=False)\n",
    "    recommend_video_indices = recommended_videos['video_id'].head(top_n).tolist()\n",
    "    recommend_video_titles = recommended_videos['title'].head(top_n).tolist()\n",
    "    \n",
    "    return recommend_video_indices, recommend_video_titles, user_name\n"
   ]
  },
  {
   "cell_type": "code",
   "execution_count": 65,
   "metadata": {},
   "outputs": [
    {
     "name": "stdout",
     "output_type": "stream",
     "text": [
      "Invalid input. Please enter an integer value\n",
      "Invalid input. Please enter an integer value\n",
      "Invalid input. Please enter an integer value\n",
      "Invalid user ID. Please enter a value between 1 and 20\n",
      "Invalid user ID. Please enter a value between 1 and 20\n",
      "Valid user ID\n",
      "\n",
      "Top 3 recommended videos for David Brown with ID 4:                    \n",
      "Video Titles: ['React for Beginners', 'Hadoop for Beginners', 'Machine Learning Basics']\n",
      "Video IDs: [108, 144, 104]\n"
     ]
    }
   ],
   "source": [
    "if __name__ == \"__main__\":\n",
    "    while True:\n",
    "        try:\n",
    "            user_id = int(input(\"Enter user ID between 1 and 20: \"))\n",
    "            if 1 <= user_id <= 20:\n",
    "                print(\"Valid user ID\")\n",
    "                n = int(input(\"Enter number of recommendations: \"))\n",
    "                recommendations = recommend_videos(user_id, n)\n",
    "\n",
    "                print(f'\\nTop {n} recommended videos for {recommendations[2]} with ID {user_id}:\\\n",
    "                    \\nVideo Titles: {recommendations[1]}\\nVideo IDs: {recommendations[0]}')\n",
    "                break\n",
    "            else:\n",
    "                print(\"Invalid user ID. Please enter a value between 1 and 20\") \n",
    "        except ValueError:\n",
    "            print(\"Invalid input. Please enter an integer value\")"
   ]
  }
 ],
 "metadata": {
  "kernelspec": {
   "display_name": "Python 3",
   "language": "python",
   "name": "python3"
  },
  "language_info": {
   "codemirror_mode": {
    "name": "ipython",
    "version": 3
   },
   "file_extension": ".py",
   "mimetype": "text/x-python",
   "name": "python",
   "nbconvert_exporter": "python",
   "pygments_lexer": "ipython3",
   "version": "3.10.9"
  }
 },
 "nbformat": 4,
 "nbformat_minor": 2
}
